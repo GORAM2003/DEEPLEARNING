{
  "nbformat": 4,
  "nbformat_minor": 0,
  "metadata": {
    "colab": {
      "provenance": [],
      "authorship_tag": "ABX9TyPdCDgovvb39XH3p88qLI9h",
      "include_colab_link": true
    },
    "kernelspec": {
      "name": "python3",
      "display_name": "Python 3"
    },
    "language_info": {
      "name": "python"
    }
  },
  "cells": [
    {
      "cell_type": "markdown",
      "metadata": {
        "id": "view-in-github",
        "colab_type": "text"
      },
      "source": [
        "<a href=\"https://colab.research.google.com/github/GORAM2003/DEEPLEARNING/blob/main/DEEPLEARNING_EXP.ipynb\" target=\"_parent\"><img src=\"https://colab.research.google.com/assets/colab-badge.svg\" alt=\"Open In Colab\"/></a>"
      ]
    },
    {
      "cell_type": "code",
      "execution_count": null,
      "metadata": {
        "colab": {
          "base_uri": "https://localhost:8080/"
        },
        "id": "Hcmfiq6XcG-T",
        "outputId": "de66f441-b629-46da-8742-913201195cbd"
      },
      "outputs": [
        {
          "output_type": "stream",
          "name": "stdout",
          "text": [
            "TF imported with eager execution!\n",
            "odds: tf.Tensor([ 1  3  5  7  9 11], shape=(6,), dtype=int32)\n",
            "ones: tf.Tensor([1 1 1 1 1 1], shape=(6,), dtype=int32)\n",
            "just_beyond_odds: tf.Tensor([ 2  4  6  8 10 12], shape=(6,), dtype=int32)\n",
            "odds_doubled: tf.Tensor([ 2  6 10 14 18 22], shape=(6,), dtype=int32)\n",
            "tf.Tensor(\n",
            "[[1 2 3]\n",
            " [4 5 6]\n",
            " [7 8 9]], shape=(3, 3), dtype=int32)\n",
            "\n",
            "value of some_matrix is:\n",
            " [[1 2 3]\n",
            " [4 5 6]\n",
            " [7 8 9]]\n"
          ]
        }
      ],
      "source": [
        "#1.A.DIMENSIONS CREATING AND MANIPULATING TENSORS\n",
        "import tensorflow as tf\n",
        "try:\n",
        " tf.executing_eagerly()\n",
        " print(\"TF imported with eager execution!\")\n",
        "except ValueError:\n",
        " print(\"TF already imported with eager execution!\")\n",
        "odds = tf.constant([1,3,5,7,9,11], dtype=tf.int32)\n",
        "print(\"odds:\", odds)\n",
        "ones = tf.ones([6], dtype=tf.int32)\n",
        "print(\"ones:\", ones)\n",
        "just_beyond_odds = tf.add(odds, ones)\n",
        "print(\"just_beyond_odds:\", just_beyond_odds)\n",
        "twos = tf.constant([2, 2, 2, 2, 2, 2], dtype=tf.int32)\n",
        "odds_doubled = odds * twos\n",
        "print(\"odds_doubled:\", odds_doubled)\n",
        "some_matrix = tf.constant([[1, 2, 3], [4, 5, 6],[7,8,9]], dtype=tf.int32)\n",
        "print(some_matrix)\n",
        "print(\"\\nvalue of some_matrix is:\\n\", some_matrix.numpy())"
      ]
    },
    {
      "cell_type": "code",
      "source": [
        "#ExP:-02\n",
        "import tensorflow as tf\n",
        "from tensorflow.keras.datasets import mnist\n",
        "from tensorflow.keras.models import Sequential\n",
        "from tensorflow.keras.layers import Dense, Flatten\n",
        "from tensorflow.keras.utils import to_categorical\n",
        "# Load and preprocess the MNIST dataset\n",
        "(x_train, y_train), (x_test, y_test) = mnist.load_data()\n",
        "x_train, x_test = x_train / 255.0, x_test / 255.0\n",
        "y_train, y_test = to_categorical(y_train, 10), to_categorical(y_test, 10)\n",
        "model = Sequential([\n",
        " Flatten(input_shape=(28, 28)),\n",
        " Dense(128, activation='relu'),\n",
        " Dense(64, activation='relu'),\n",
        " Dense(10, activation='softmax')\n",
        "])\n",
        "model.compile(optimizer='adam',loss='categorical_crossentropy',metrics=['accuracy'])\n",
        "model.fit(x_train, y_train, epochs=5, batch_size=32, validation_split=0.2)\n",
        "test_loss, test_accuracy = model.evaluate(x_test, y_test)\n",
        "print(f\"Test accuracy: {test_accuracy:.4f}\")"
      ],
      "metadata": {
        "id": "Y8l6FCclcPfS"
      },
      "execution_count": null,
      "outputs": []
    },
    {
      "cell_type": "code",
      "source": [
        "#Exp:-03\n",
        "import numpy as np\n",
        "import tensorflow as tf\n",
        "from tensorflow.keras.models import Sequential\n",
        "from tensorflow.keras.layers import Dense,Input\n",
        "from sklearn.model_selection import train_test_split\n",
        "from sklearn.metrics import accuracy_score\n",
        "np.random.seed(42)\n",
        "X = np.random.rand(1000, 2)\n",
        "y = (X[:, 0] + X[:, 1] > 1).astype(int)\n",
        "X_train, X_test, y_train, y_test = train_test_split(X, y, test_size=0.2,\n",
        "random_state=42)\n",
        "model = Sequential([Input(shape=(2)),Dense(64, activation='relu'),Dense(1,\n",
        "activation='sigmoid')])\n",
        "model.compile(optimizer='adam',loss='binary_crossentropy',metrics=['accuracy'])\n",
        "model.fit(X_train, y_train, epochs=10, batch_size=32, validation_split=0.2)\n",
        "y_pred = model.predict(X_test)\n",
        "y_pred_binary = (y_pred > 0.5).astype(int)\n",
        "test_accuracy = accuracy_score(y_test, y_pred_binary)\n",
        "print(f\"Test accuracy: {test_accuracy:.4f}\")\n"
      ],
      "metadata": {
        "colab": {
          "base_uri": "https://localhost:8080/"
        },
        "id": "4VQNJ6q24KvW",
        "outputId": "ee71d47e-1406-4ca5-a4c7-d09b8d7c0445"
      },
      "execution_count": 1,
      "outputs": [
        {
          "output_type": "stream",
          "name": "stdout",
          "text": [
            "Epoch 1/10\n",
            "20/20 [==============================] - 3s 36ms/step - loss: 0.6481 - accuracy: 0.4984 - val_loss: 0.6145 - val_accuracy: 0.5938\n",
            "Epoch 2/10\n",
            "20/20 [==============================] - 0s 17ms/step - loss: 0.6310 - accuracy: 0.5453 - val_loss: 0.5957 - val_accuracy: 0.6313\n",
            "Epoch 3/10\n",
            "20/20 [==============================] - 0s 10ms/step - loss: 0.6121 - accuracy: 0.6062 - val_loss: 0.5785 - val_accuracy: 0.6562\n",
            "Epoch 4/10\n",
            "20/20 [==============================] - 0s 12ms/step - loss: 0.5917 - accuracy: 0.6609 - val_loss: 0.5592 - val_accuracy: 0.7000\n",
            "Epoch 5/10\n",
            "20/20 [==============================] - 0s 10ms/step - loss: 0.5687 - accuracy: 0.7203 - val_loss: 0.5380 - val_accuracy: 0.7500\n",
            "Epoch 6/10\n",
            "20/20 [==============================] - 0s 12ms/step - loss: 0.5437 - accuracy: 0.7703 - val_loss: 0.5136 - val_accuracy: 0.8250\n",
            "Epoch 7/10\n",
            "20/20 [==============================] - 0s 20ms/step - loss: 0.5175 - accuracy: 0.7969 - val_loss: 0.4897 - val_accuracy: 0.8562\n",
            "Epoch 8/10\n",
            "20/20 [==============================] - 0s 7ms/step - loss: 0.4905 - accuracy: 0.8328 - val_loss: 0.4667 - val_accuracy: 0.8938\n",
            "Epoch 9/10\n",
            "20/20 [==============================] - 0s 13ms/step - loss: 0.4635 - accuracy: 0.8906 - val_loss: 0.4421 - val_accuracy: 0.9375\n",
            "Epoch 10/10\n",
            "20/20 [==============================] - 0s 15ms/step - loss: 0.4369 - accuracy: 0.8922 - val_loss: 0.4159 - val_accuracy: 0.9438\n",
            "7/7 [==============================] - 0s 7ms/step\n",
            "Test accuracy: 0.8850\n"
          ]
        }
      ]
    },
    {
      "cell_type": "code",
      "source": [
        "#Exp:-04\n",
        "from sklearn.metrics import mean_absolute_error\n",
        "from sklearn.tree import DecisionTreeRegressor\n",
        "def get_mae(max_leaf_nodes, train_X, val_X, train_y, val_y):\n",
        "  model = DecisionTreeRegressor(max_leaf_nodes=max_leaf_nodes, random_state=0)\n",
        "  model.fit(train_X, train_y)\n",
        "  preds_val = model.predict(val_X)\n",
        "  mae = mean_absolute_error(val_y, preds_val)\n",
        "  return(mae)\n",
        "import pandas as pd\n",
        "# Load data\n",
        "melbourne_file_path ='../input/melbourne-housing-snapshot/melb_data.csv'\n",
        "melbourne_data=pd.read_csv('melb_data.csv')\n",
        "# Filter rows with missing values\n",
        "filtered_melbourne_data = melbourne_data.dropna (axis=0)\n",
        "# Choose target and features\n",
        "y = filtered_melbourne_data. Price\n",
        "melbourne_features = ['Rooms', 'Bathroom', 'Landsize', 'BuildingArea', 'YearBuilt', 'Lattitude', 'Longtitude']\n",
        "X =filtered_melbourne_data[melbourne_features]\n",
        "from sklearn.model_selection import train_test_split\n",
        "# split data into training and validation data, for both features and target\n",
        "train_X, val_X, train_y, val_y = train_test_split(X, y, random_state = 0)\n",
        "for max_leaf_nodes in [5, 50, 500, 5000]:\n",
        "  my_mae = get_mae (max_leaf_nodes, train_X, val_X, train_y, val_y)\n",
        "  print(\"Max leaf nodes: %d \\t\\t Mean Absolute Error: %d\" % (max_leaf_nodes, my_mae))\n"
      ],
      "metadata": {
        "colab": {
          "base_uri": "https://localhost:8080/"
        },
        "id": "pW1lOOzT4Teo",
        "outputId": "3ed546a4-98e6-4eb7-fed7-820f98ea3f88"
      },
      "execution_count": 3,
      "outputs": [
        {
          "output_type": "stream",
          "name": "stdout",
          "text": [
            "Max leaf nodes: 5 \t\t Mean Absolute Error: 347380\n",
            "Max leaf nodes: 50 \t\t Mean Absolute Error: 258171\n",
            "Max leaf nodes: 500 \t\t Mean Absolute Error: 243495\n",
            "Max leaf nodes: 5000 \t\t Mean Absolute Error: 255575\n"
          ]
        }
      ]
    },
    {
      "cell_type": "code",
      "source": [
        "#ExP:-05\n",
        "import numpy as np\n",
        "import matplotlib.pyplot as plt\n",
        "def estimate_coef(x, y):\n",
        "    n = np.size(x)\n",
        "    m_x= np.mean(x)\n",
        "    m_y=np.mean(y)\n",
        "    SS_xy =np.sum(y*x)-n*m_y*m_x\n",
        "    SS_xx =np.sum(x*x)-n*m_x*m_x\n",
        "    b_1 = SS_xy / SS_xx\n",
        "    b_0 = m_y-b_1*m_x\n",
        "    return(b_0,b_1)\n",
        "def plot_regression_line(x, y, b):\n",
        "    plt.scatter(x, y, color=\"m\",marker=\"o\",s=30)\n",
        "    y_pred=b[0]+b[1]*x\n",
        "    plt.plot(x,y_pred,color=\"g\")\n",
        "    plt.xlabel('x')\n",
        "    plt.ylabel('y')\n",
        "    plt.show()\n",
        "def main():\n",
        "    x = np.array([0, 1, 2, 3, 4, 5, 6, 7, 8, 9])\n",
        "    y = np.array([1, 3, 2, 5, 7, 8, 8, 9, 10, 12])\n",
        "    b= estimate_coef (x, y)\n",
        "    print(\"Estimated coefficients: \\nb_0)={}\\\\ nb_1= {}\".format(b[0], b[1]))\n",
        "    plot_regression_line (x,y,b)\n",
        "if __name__==\"__main__\":\n",
        "    main()"
      ],
      "metadata": {
        "colab": {
          "base_uri": "https://localhost:8080/",
          "height": 485
        },
        "id": "5Q8faSZQ4wI_",
        "outputId": "6bef4306-e449-403f-843d-adab354ee571"
      },
      "execution_count": 5,
      "outputs": [
        {
          "output_type": "stream",
          "name": "stdout",
          "text": [
            "Estimated coefficients: \n",
            "b_0)=1.2363636363636363\\ nb_1= 1.1696969696969697\n"
          ]
        },
        {
          "output_type": "display_data",
          "data": {
            "text/plain": [
              "<Figure size 640x480 with 1 Axes>"
            ],
            "image/png": "[encoded data removed]"
          },
          "metadata": {}
        }
      ]
    },
    {
      "cell_type": "code",
      "source": [
        "#exp:-06\n",
        "import tensorflow as tf\n",
        "from tensorflow import keras\n",
        "input_shape = (10, 1)\n",
        "model = keras.Sequential([\n",
        "    keras.layers.SimpleRNN(32, input_shape=input_shape),\n",
        "    keras.layers.Dense(1)\n",
        "])\n",
        "model.compile(optimizer='adam', loss='mse')\n",
        "import numpy as np\n",
        "\n",
        "X_train = np.random.randn(100, 10, 1)\n",
        "y_train = np.random.randn(100, 1)\n",
        "\n",
        "model.fit(X_train, y_train, epochs=10, batch_size=32)\n",
        "X_test = np.random.randn(10, 10, 1)\n",
        "y_test = np.random.randn(10, 1)\n",
        "\n",
        "model.evaluate(X_test, y_test)\n",
        "\n"
      ],
      "metadata": {
        "colab": {
          "base_uri": "https://localhost:8080/"
        },
        "id": "itPEQWfA4-yt",
        "outputId": "59f688cb-bf09-4912-c7da-7d85aedca494"
      },
      "execution_count": 6,
      "outputs": [
        {
          "output_type": "stream",
          "name": "stdout",
          "text": [
            "Epoch 1/10\n",
            "4/4 [==============================] - 2s 9ms/step - loss: 1.2030\n",
            "Epoch 2/10\n",
            "4/4 [==============================] - 0s 9ms/step - loss: 1.0935\n",
            "Epoch 3/10\n",
            "4/4 [==============================] - 0s 8ms/step - loss: 1.0148\n",
            "Epoch 4/10\n",
            "4/4 [==============================] - 0s 9ms/step - loss: 0.9758\n",
            "Epoch 5/10\n",
            "4/4 [==============================] - 0s 9ms/step - loss: 0.9428\n",
            "Epoch 6/10\n",
            "4/4 [==============================] - 0s 9ms/step - loss: 0.9134\n",
            "Epoch 7/10\n",
            "4/4 [==============================] - 0s 9ms/step - loss: 0.8924\n",
            "Epoch 8/10\n",
            "4/4 [==============================] - 0s 11ms/step - loss: 0.8731\n",
            "Epoch 9/10\n",
            "4/4 [==============================] - 0s 7ms/step - loss: 0.8603\n",
            "Epoch 10/10\n",
            "4/4 [==============================] - 0s 5ms/step - loss: 0.8478\n",
            "1/1 [==============================] - 0s 465ms/step - loss: 0.4370\n"
          ]
        },
        {
          "output_type": "execute_result",
          "data": {
            "text/plain": [
              "0.43701228499412537"
            ]
          },
          "metadata": {},
          "execution_count": 6
        }
      ]
    },
    {
      "cell_type": "code",
      "source": [
        "#EXp:-07\n",
        "# importing required libraries\n",
        "import urllib\n",
        "import requests\n",
        "import os\n",
        "\n",
        "# retrieving using image url\n",
        "urllib.request.urlretrieve(\"https://i.ibb.co/xY4DJJ5/img1.jpg\", \"img1.jpg\")\n",
        "urllib.request.urlretrieve(\"https://i.ibb.co/Gnd1Y1L/img2.jpg\", \"img2.jpg\")\n",
        "urllib.request.urlretrieve(\"https://i.ibb.co/Z6JgS1L/img3.jpg\", \"img3.jpg\")\n",
        "\n",
        "print('Images downloaded')\n",
        "\n",
        "# get current working directory path\n",
        "path = os.getcwd()\n",
        "\n",
        "captionarr = [\n",
        "    \"This is the first caption\",\n",
        "    \"This is the second caption\",\n",
        "    \"This is the third caption\"\n",
        "    ]\n",
        "    # importing necessary functions from PIL\n",
        "from PIL import Image\n",
        "from PIL import ImageFont\n",
        "from PIL import ImageDraw\n",
        "\n",
        "print(os.getcwd())\n",
        "\n",
        "# checking the file mime types if\n",
        "# it is jpg, png or jpeg\n",
        "def ext(file):\n",
        "    index = file.find(\".jpg\")\n",
        "    current_file = \"\"\n",
        "    current_file = file[index:]\n",
        "    return current_file\n",
        "\n",
        "def ext2(file):\n",
        "    index = file.find(\".jpeg\")\n",
        "    current_file = \"\"\n",
        "    current_file = file[index:]\n",
        "    return current_file\n",
        "\n",
        "def ext3(file):\n",
        "    index = file.find(\".png\")\n",
        "    current_file = \"\"\n",
        "    current_file = file[index:]\n",
        "    return current_file\n",
        "\n",
        "# converting text from lowercase to uppercase\n",
        "def convert(words):\n",
        "    s = \"\"\n",
        "    for word in words:\n",
        "        s += word.upper()\n",
        "    return s\n",
        "\n",
        "caption_first = convert(captionarr[0])\n",
        "caption_second = convert(captionarr[1])\n",
        "caption_third = convert(captionarr[2])\n",
        "\n",
        "print(caption_first)\n",
        "print(caption_second)\n",
        "print(caption_third)\n",
        "\n",
        "count = 0\n",
        "\n",
        "for f in os.listdir('.'):\n",
        "    try:\n",
        "        # Checking for file types if jpg, png\n",
        "        # or jpeg excluding other files\n",
        "        if (ext(f) == '.jpg' or ext2(f) == '.jpeg' or ext3(f) == '.png'):\n",
        "            img = Image.open(f)\n",
        "            width, height = img.size\n",
        "            basewidth = 1200\n",
        "            # print(height)\n",
        "\n",
        "            # Resizing images to same width height\n",
        "            wpercent = (basewidth / float(img.size[0]))\n",
        "            hsize = int((float(img.size[1])*float(wpercent)))\n",
        "            img = img.resize((basewidth, hsize), Image.ANTIALIAS)\n",
        "            new_width, new_height = img.size\n",
        "\n",
        "            # print(new_height)\n",
        "            # changing image mode if not in RGB\n",
        "            if not img.mode == 'RGB':\n",
        "                img = img.convert('RGB')\n",
        "\n",
        "            draw = ImageDraw.Draw(img)\n",
        "            # font = ImageFont.truetype(<font-file>, <font-size>)\n",
        "            # initializing which font will be chosen by us\n",
        "            font = ImageFont.truetype(\"Arial Bold.ttf\", 35)\n",
        "\n",
        "             # First Caption on First image\n",
        "            if count == 0:\n",
        "                draw.text((new_width / 15 + 25, new_height - 100),\n",
        "                           caption_first, (255, 0, 0), font = font,\n",
        "                           align =\"center\")\n",
        "\n",
        "            # Second Caption on Second image\n",
        "            elif count == 1:\n",
        "                draw.text((new_width / 15 + 25, new_height - 100),\n",
        "                          caption_second, (255, 0, 0), font = font,\n",
        "                          align =\"center\")\n",
        "\n",
        "            # Third Caption on Third image\n",
        "            else:\n",
        "                draw.text(( new_width / 15 + 25, new_height - 100),\n",
        "                            caption_third, (255, 0, 0), font = font,\n",
        "                            align =\"center\")\n",
        "\n",
        "            img.save(\"CaptionedImges/{}\".format(f))\n",
        "            print('done')\n",
        "            count = count + 1\n",
        "\n",
        "    except OSError:\n",
        "        pass\n",
        "        import os\n",
        "import glob\n",
        "import shutil\n",
        "\n",
        "\n",
        "fnames = []\n",
        "for file in os.listdir('.'):\n",
        "    # appending files in directory to the frames arr\n",
        "    fnames.append(file)\n",
        "fnames.sort(key = lambda x: os.stat(x).st_ctime, reverse = True)\n"
      ],
      "metadata": {
        "colab": {
          "base_uri": "https://localhost:8080/"
        },
        "id": "BUZ9AwYL44bk",
        "outputId": "b3e207c2-18b3-4684-f573-370d07884db9"
      },
      "execution_count": 7,
      "outputs": [
        {
          "output_type": "stream",
          "name": "stdout",
          "text": [
            "Images downloaded\n",
            "/content\n",
            "THIS IS THE FIRST CAPTION\n",
            "THIS IS THE SECOND CAPTION\n",
            "THIS IS THE THIRD CAPTION\n"
          ]
        },
        {
          "output_type": "stream",
          "name": "stderr",
          "text": [
            "<ipython-input-7-bbf1319dd717>:79: DeprecationWarning: ANTIALIAS is deprecated and will be removed in Pillow 10 (2023-07-01). Use LANCZOS or Resampling.LANCZOS instead.\n",
            "  img = img.resize((basewidth, hsize), Image.ANTIALIAS)\n"
          ]
        }
      ]
    },
    {
      "cell_type": "code",
      "source": [
        "#ExP:-08\n",
        "!pip install gTTS\n",
        "from gtts import gTTS\n",
        "text_to_say=\"Welcome to the Text to Speech conversion session at Kalasalingam University\"\n",
        "language = 'en'\n",
        "gtts_object = gTTS(text = text_to_say, lang = language, slow = False)\n",
        "gtts_object.save(\"/content/gtts.wav\")\n",
        "from IPython.display import Audio\n",
        "Audio(\"/content/gtts.wav\")\n"
      ],
      "metadata": {
        "colab": {
          "base_uri": "https://localhost:8080/",
          "height": 256
        },
        "id": "GSooL6vb5cVf",
        "outputId": "9da5da46-9c07-482c-b7b2-3338ad171239"
      },
      "execution_count": 8,
      "outputs": [
        {
          "output_type": "stream",
          "name": "stdout",
          "text": [
            "Collecting gTTS\n",
            "  Downloading gTTS-2.4.0-py3-none-any.whl (29 kB)\n",
            "Requirement already satisfied: requests<3,>=2.27 in /usr/local/lib/python3.10/dist-packages (from gTTS) (2.31.0)\n",
            "Requirement already satisfied: click<8.2,>=7.1 in /usr/local/lib/python3.10/dist-packages (from gTTS) (8.1.7)\n",
            "Requirement already satisfied: charset-normalizer<4,>=2 in /usr/local/lib/python3.10/dist-packages (from requests<3,>=2.27->gTTS) (3.3.2)\n",
            "Requirement already satisfied: idna<4,>=2.5 in /usr/local/lib/python3.10/dist-packages (from requests<3,>=2.27->gTTS) (3.6)\n",
            "Requirement already satisfied: urllib3<3,>=1.21.1 in /usr/local/lib/python3.10/dist-packages (from requests<3,>=2.27->gTTS) (2.0.7)\n",
            "Requirement already satisfied: certifi>=2017.4.17 in /usr/local/lib/python3.10/dist-packages (from requests<3,>=2.27->gTTS) (2023.11.17)\n",
            "Installing collected packages: gTTS\n",
            "Successfully installed gTTS-2.4.0\n"
          ]
        },
        {
          "output_type": "execute_result",
          "data": {
            "text/plain": [
              "<IPython.lib.display.Audio object>"
            ],
            "text/html": [
              "\n",
              "                <audio  controls=\"controls\" >\n",
              "                    <source src=\"data:audio/x-wav;base64,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\" type=\"audio/x-wav\" />\n",
              "                    Your browser does not support the audio element.\n",
              "                </audio>\n",
              "              "
            ]
          },
          "metadata": {},
          "execution_count": 8
        }
      ]
    },
    {
      "cell_type": "code",
      "source": [
        "#Exp:-09\n",
        "import tensorflow as tf\n",
        "from tensorflow.keras.datasets import mnist\n",
        "from tensorflow.keras.models import Sequential\n",
        "from tensorflow.keras.layers import Conv2D, MaxPooling2D, Flatten, Dense, Dropout\n",
        "from tensorflow.keras.utils import to_categorical\n",
        "# Load and preprocess the dataset\n",
        "(x_train, y_train), (x_test, y_test) = mnist.load_data()\n",
        "x_train = x_train.reshape(x_train.shape[0], 28, 28, 1).astype('float32') / 255\n",
        "x_test = x_test.reshape(x_test.shape[0], 28, 28, 1).astype('float32') / 255\n",
        "y_train = to_categorical(y_train, 10)\n",
        "y_test = to_categorical(y_test, 10)\n",
        "# Build the CNN model\n",
        "model = Sequential()\n",
        "model.add(Conv2D(32, kernel_size=(3, 3), activation='relu',\n",
        "input_shape=(28, 28, 1)))\n",
        "model.add(MaxPooling2D(pool_size=(2, 2)))\n",
        "model.add(Conv2D(64, kernel_size=(3, 3), activation='relu'))\n",
        "model.add(MaxPooling2D(pool_size=(2, 2)))\n",
        "model.add(Flatten())\n",
        "model.add(Dense(128, activation='relu'))\n",
        "model.add(Dropout(0.5))\n",
        "model.add(Dense(10, activation='softmax'))\n",
        "# Compile the model\n",
        "model.compile(loss='categorical_crossentropy', optimizer='adam',\n",
        "metrics=['accuracy'])\n",
        "# Train the model\n",
        "model.fit(x_train, y_train, validation_data=(x_test, y_test), epochs=10,\n",
        "batch_size=200, verbose=2)\n",
        "# Evaluate the model\n",
        "test_loss, test_acc = model.evaluate(x_test, y_test, verbose=0)\n",
        "print(f'Test accuracy: {test_acc*100:.2f}%')\n"
      ],
      "metadata": {
        "colab": {
          "base_uri": "https://localhost:8080/"
        },
        "id": "vayTsZgC5sAN",
        "outputId": "5f1d0803-23be-4f39-e453-72131159d9a4"
      },
      "execution_count": null,
      "outputs": [
        {
          "output_type": "stream",
          "name": "stdout",
          "text": [
            "Downloading data from https://storage.googleapis.com/tensorflow/tf-keras-datasets/mnist.npz\n",
            "11490434/11490434 [==============================] - 1s 0us/step\n",
            "Epoch 1/10\n",
            "300/300 - 64s - loss: 0.3857 - accuracy: 0.8813 - val_loss: 0.0755 - val_accuracy: 0.9767 - 64s/epoch - 213ms/step\n",
            "Epoch 2/10\n",
            "300/300 - 63s - loss: 0.1130 - accuracy: 0.9673 - val_loss: 0.0434 - val_accuracy: 0.9866 - 63s/epoch - 209ms/step\n",
            "Epoch 3/10\n",
            "300/300 - 51s - loss: 0.0814 - accuracy: 0.9756 - val_loss: 0.0394 - val_accuracy: 0.9879 - 51s/epoch - 169ms/step\n",
            "Epoch 4/10\n",
            "300/300 - 50s - loss: 0.0671 - accuracy: 0.9802 - val_loss: 0.0319 - val_accuracy: 0.9895 - 50s/epoch - 166ms/step\n",
            "Epoch 5/10\n"
          ]
        }
      ]
    },
    {
      "cell_type": "code",
      "source": [
        "#Exp:-10\n",
        "import numpy as np\n",
        "import tensorflow as tf\n",
        "from tensorflow.keras.models import Sequential\n",
        "from tensorflow.keras.layers import Embedding, LSTM, Dense\n",
        "from tensorflow.keras.preprocessing.text import Tokenizer\n",
        "from tensorflow.keras.preprocessing.sequence import pad_sequences\n",
        "\n",
        "# Sample data: sentences and their corresponding labels\n",
        "sentences = [ \"I love this product\", \"This is terrible\", \"Great job!\", \"Not good at all\", \"Awesome stuff\" ]\n",
        "labels = [1, 0, 1, 0, 1]\n",
        "\n",
        "# Tokenize the text data:\n",
        "tokenizer = Tokenizer(num_words=1000, oov_token=\"\")\n",
        "tokenizer.fit_on_texts(sentences)\n",
        "word_index = tokenizer.word_index\n",
        "\n",
        "# Convert sentences to sequences of integers\n",
        "sequences = tokenizer.texts_to_sequences(sentences)\n",
        "\n",
        "# Pad sequences to have the same length\n",
        "max_sequence_length = max([len(seq) for seq in sequences])\n",
        "sequences_padded = pad_sequences(sequences, maxlen=max_sequence_length, padding=\"post\")\n",
        "\n",
        "# Define the model\n",
        "model = Sequential()\n",
        "model.add(Embedding(input_dim=len(word_index) + 1, output_dim=64, input_length=max_sequence_length))\n",
        "model.add(LSTM(64))\n",
        "model.add(Dense(1, activation=\"sigmoid\"))\n",
        "\n",
        "# Compile the model\n",
        "model.compile(loss=\"binary_crossentropy\", optimizer=\"adam\", metrics=[\"accuracy\"])\n",
        "\n",
        "# Test sentences for predictions\n",
        "test_sentences = [\n",
        "    \"This is amazing\",\n",
        "    \"Absolutely awful\",\n",
        "    \"Well done!\",\n",
        "    \"Very disappointing\"\n",
        "]\n",
        "\n",
        "test_sequences = tokenizer.texts_to_sequences(test_sentences)\n",
        "test_sequences_padded = pad_sequences(test_sequences, maxlen=max_sequence_length, padding=\"post\")\n",
        "\n",
        "# Make predictions\n",
        "predictions = model.predict(test_sequences_padded)\n",
        "\n",
        "# Print the predictions\n",
        "for i, sentence in enumerate(test_sentences):\n",
        "    sentiment = \"Positive\" if predictions[i] > 0.5 else \"Negative\"\n",
        "    print(f\"Sentence: '{sentence}' - Sentiment: {sentiment} ({predictions[i][0]:.2f})\")\n"
      ],
      "metadata": {
        "id": "3Llkes-b54ts"
      },
      "execution_count": null,
      "outputs": []
    },
    {
      "cell_type": "code",
      "source": [
        "#Exp:-11\n",
        "import numpy as np\n",
        "import matplotlib.pyplot as plt\n",
        "from tensorflow.keras.layers import Dense, Flatten, Reshape\n",
        "from tensorflow.keras.models import Sequential\n",
        "from tensorflow.keras.optimizers import Adam\n",
        "# Define the generator model\n",
        "def build_generator(latent_dim):\n",
        " model = Sequential()\n",
        " model.add(Dense(128, input_dim=latent_dim, activation='relu'))\n",
        " model.add(Dense(784, activation='sigmoid'))\n",
        " model.add(Reshape((28, 28, 1)))\n",
        " return model\n",
        "# Define the discriminator model\n",
        "def build_discriminator(input_shape):\n",
        " model = Sequential()\n",
        " model.add(Flatten(input_shape=input_shape))\n",
        " model.add(Dense(128, activation='relu'))\n",
        " model.add(Dense(1, activation='sigmoid'))\n",
        " return model\n",
        "# Define the GAN model that combines the generator and discriminator\n",
        "def build_gan(generator, discriminator):\n",
        " discriminator.trainable = False\n",
        " model = Sequential()\n",
        " model.add(generator)\n",
        " model.add(discriminator)\n",
        " return model\n",
        "# Load and preprocess the dataset (e.g., MNIST)\n",
        "from tensorflow.keras.datasets import mnist\n",
        "(X_train, _), (_, _) = mnist.load_data()\n",
        "X_train = X_train / 255.0 # Normalize pixel values to the range [0, 1]\n",
        "X_train = X_train.reshape(X_train.shape[0], 28, 28, 1)\n",
        "# Set hyperparameters\n",
        "latent_dim = 100\n",
        "epochs = 1000\n",
        "batch_size = 64\n",
        "# Build and compile the generator, discriminator, and GAN models\n",
        "generator = build_generator(latent_dim)\n",
        "discriminator = build_discriminator(X_train[0].shape)\n",
        "gan = build_gan(generator, discriminator)\n",
        "discriminator.compile(loss='binary_crossentropy',\n",
        "optimizer=Adam(lr=0.0002, beta_1=0.5))\n",
        "gan.compile(loss='binary_crossentropy', optimizer=Adam(lr=0.0002,\n",
        "beta_1=0.5))\n",
        "# Training loop\n",
        "for epoch in range(epochs):\n",
        " # Train discriminator\n",
        " idx = np.random.randint(0, X_train.shape[0], batch_size)\n",
        " real_images = X_train[idx]\n",
        " labels_real = np.ones((batch_size, 1))\n",
        " labels_fake = np.zeros((batch_size, 1))\n",
        " noise = np.random.normal(0, 1, (batch_size, latent_dim))\n",
        " generated_images = generator.predict(noise)\n",
        " d_loss_real = discriminator.train_on_batch(real_images, labels_real)\n",
        " d_loss_fake = discriminator.train_on_batch(generated_images,\n",
        "labels_fake)\n",
        " d_loss = 0.5 * np.add(d_loss_real, d_loss_fake)\n",
        " # Train generator\n",
        " noise = np.random.normal(0, 1, (batch_size, latent_dim))\n",
        " labels_gan = np.ones((batch_size, 1))\n",
        " g_loss = gan.train_on_batch(noise, labels_gan)\n",
        " # Print progress\n",
        "if (epoch + 1) % 1000 == 0:\n",
        " print(f\"Epoch {epoch + 1}/{epochs} - D Loss: {d_loss} - G Loss: {g_loss}\")\n",
        "\n",
        " # Save generated images at specified intervals\n",
        " if (epoch + 1) % 1000 == 0:\n",
        "  num_samples = 10\n",
        " noise = np.random.normal(0, 1, (num_samples, latent_dim))\n",
        " generated_images = generator.predict(noise)\n",
        " plt.figure(figsize=(10, 2))\n",
        " for i in range(num_samples):\n",
        "  plt.subplot(1, num_samples, i + 1)\n",
        " plt.imshow(generated_images[i].reshape(28, 28), cmap='gray')\n",
        " plt.axis('off')\n",
        " plt.savefig(f\"gan_generated_image_epoch_{epoch + 1}.png\")\n",
        " plt.close()\n",
        "# Generate and save final images\n",
        "num_samples = 10\n",
        "noise = np.random.normal(0, 1, (num_samples, latent_dim))\n",
        "generated_images = generator.predict(noise)\n",
        "plt.figure(figsize=(10, 2))\n",
        "for i in range(num_samples):\n",
        " plt.subplot(1, num_samples, i + 1)\n",
        " plt.imshow(generated_images[i].reshape(28, 28), cmap='gray')\n",
        " plt.axis('off')\n",
        "plt.savefig(\"final_generated_images.png\")\n",
        "plt.show()\n"
      ],
      "metadata": {
        "id": "AT_MmvvM6CJI"
      },
      "execution_count": null,
      "outputs": []
    },
    {
      "cell_type": "code",
      "source": [
        "#ExP:-12\n",
        "import numpy as np\n",
        "from tensorflow import keras\n",
        "from tensorflow.keras import layers\n",
        "max_features = 20000 # Only consider the top 20k words\n",
        "maxlen = 200 # Only consider the first 200 words of each movie review\n",
        "# Input for variable-length sequences of integers\n",
        "inputs = keras.Input(shape=(None,), dtype=\"int32\")\n",
        "# Embed each integer in a 128-dimensional vector\n",
        "x = layers.Embedding(max_features, 128)(inputs)\n",
        "# Add 2 bidirectional LSTMs\n",
        "x = layers.Bidirectional(layers.LSTM(64, return_sequences=True))(x)\n",
        "x = layers.Bidirectional(layers.LSTM(64))(x)\n",
        "# Add a classifier\n",
        "outputs = layers.Dense(1, activation=\"sigmoid\")(x)\n",
        "model = keras.Model(inputs, outputs)\n",
        "model.summary()\n",
        "(x_train, y_train), (x_val, y_val) = keras.datasets.imdb.load_data(\n",
        "num_words=max_features\n",
        ")\n",
        "print(len(x_train), \"Training sequences\")\n",
        "print(len(x_val), \"Validation sequences\")\n",
        "x_train = keras.preprocessing.sequence.pad_sequences(x_train,\n",
        "maxlen=maxlen)\n",
        "x_val = keras.preprocessing.sequence.pad_sequences(x_val,\n",
        "maxlen=maxlen)\n",
        "model.compile(\"adam\", \"binary_crossentropy\", metrics=[\"accuracy\"])\n",
        "model.fit(x_train, y_train, batch_size=32, epochs=2,\n",
        "validation_data=(x_val, y_val))\n"
      ],
      "metadata": {
        "id": "H2YjFSOx6Lep"
      },
      "execution_count": null,
      "outputs": []
    }
  ]
}