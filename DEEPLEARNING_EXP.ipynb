{
  "nbformat": 4,
  "nbformat_minor": 0,
  "metadata": {
    "colab": {
      "provenance": [],
      "authorship_tag": "ABX9TyMCiu78rb3p0u34gE4E671R",
      "include_colab_link": true
    },
    "kernelspec": {
      "name": "python3",
      "display_name": "Python 3"
    },
    "language_info": {
      "name": "python"
    }
  },
  "cells": [
    {
      "cell_type": "markdown",
      "metadata": {
        "id": "view-in-github",
        "colab_type": "text"
      },
      "source": [
        "<a href=\"https://colab.research.google.com/github/GORAM2003/DEEPLEARNING/blob/main/DEEPLEARNING_EXP.ipynb\" target=\"_parent\"><img src=\"https://colab.research.google.com/assets/colab-badge.svg\" alt=\"Open In Colab\"/></a>"
      ]
    },
    {
      "cell_type": "code",
      "execution_count": 4,
      "metadata": {
        "colab": {
          "base_uri": "https://localhost:8080/"
        },
        "id": "Hcmfiq6XcG-T",
        "outputId": "de66f441-b629-46da-8742-913201195cbd"
      },
      "outputs": [
        {
          "output_type": "stream",
          "name": "stdout",
          "text": [
            "TF imported with eager execution!\n",
            "odds: tf.Tensor([ 1  3  5  7  9 11], shape=(6,), dtype=int32)\n",
            "ones: tf.Tensor([1 1 1 1 1 1], shape=(6,), dtype=int32)\n",
            "just_beyond_odds: tf.Tensor([ 2  4  6  8 10 12], shape=(6,), dtype=int32)\n",
            "odds_doubled: tf.Tensor([ 2  6 10 14 18 22], shape=(6,), dtype=int32)\n",
            "tf.Tensor(\n",
            "[[1 2 3]\n",
            " [4 5 6]\n",
            " [7 8 9]], shape=(3, 3), dtype=int32)\n",
            "\n",
            "value of some_matrix is:\n",
            " [[1 2 3]\n",
            " [4 5 6]\n",
            " [7 8 9]]\n"
          ]
        }
      ],
      "source": [
        "#1.A.DIMENSIONS CREATING AND MANIPULATING TENSORS\n",
        "import tensorflow as tf\n",
        "try:\n",
        " tf.executing_eagerly()\n",
        " print(\"TF imported with eager execution!\")\n",
        "except ValueError:\n",
        " print(\"TF already imported with eager execution!\")\n",
        "odds = tf.constant([1,3,5,7,9,11], dtype=tf.int32)\n",
        "print(\"odds:\", odds)\n",
        "ones = tf.ones([6], dtype=tf.int32)\n",
        "print(\"ones:\", ones)\n",
        "just_beyond_odds = tf.add(odds, ones)\n",
        "print(\"just_beyond_odds:\", just_beyond_odds)\n",
        "twos = tf.constant([2, 2, 2, 2, 2, 2], dtype=tf.int32)\n",
        "odds_doubled = odds * twos\n",
        "print(\"odds_doubled:\", odds_doubled)\n",
        "some_matrix = tf.constant([[1, 2, 3], [4, 5, 6],[7,8,9]], dtype=tf.int32)\n",
        "print(some_matrix)\n",
        "print(\"\\nvalue of some_matrix is:\\n\", some_matrix.numpy())"
      ]
    },
    {
      "cell_type": "code",
      "source": [],
      "metadata": {
        "id": "Y8l6FCclcPfS"
      },
      "execution_count": null,
      "outputs": []
    }
  ]
}